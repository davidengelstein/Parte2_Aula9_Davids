{
 "cells": [
  {
   "cell_type": "markdown",
   "metadata": {},
   "source": [
    "Cada grupo de alunos deve ficar com uma distribuição e deve realizar as seguintes atividades (**num IPython Notebook à parte**, que deve ser publicado no **Github** e ter seu link divulgado para a sala até 24/9):\n",
    "\n",
    "\n",
    "2.1. Gere um plot da densidade de probabilidade da distribuição e de sua cumulativa. Descubra como usando o pacote scipy.stats\n",
    "\n",
    "2.2. Qual a forma analítica (expressão) da distribuição?\n",
    "\n",
    "2.3. Quais parâmetros descrevem a distribuição?\n",
    "\n",
    "2.4. Existe uma fórmula específica para calcular esperança (média) e variáncia em função dos parâmetros?\n",
    "\n",
    "2.5. Que tipo de aplicações tem esta distribuição? Em que tipo de dados é normalmente encontrada?\n",
    "\n",
    "2.6. Essa distribuição é útil para a inferência estatística? (Os Capítulos 7 e 8 do Magalhães darão uma idéia de se sim ou não)"
   ]
  },
  {
   "cell_type": "code",
   "execution_count": 1,
   "metadata": {
    "collapsed": true
   },
   "outputs": [],
   "source": [
    "%matplotlib inline\n",
    "import numpy as np\n",
    "from scipy.stats import lognorm\n",
    "import matplotlib.pyplot as plt\n",
    "from matplotlib.lines import Line2D  \n"
   ]
  },
  {
   "cell_type": "code",
   "execution_count": 2,
   "metadata": {
    "collapsed": false
   },
   "outputs": [
    {
     "data": {
      "text/plain": [
       "[<matplotlib.lines.Line2D at 0x7e796a0>]"
      ]
     },
     "execution_count": 2,
     "metadata": {},
     "output_type": "execute_result"
    },
    {
     "data": {
      "image/png": "[encoded data removed]",
      "text/plain": [
       "<matplotlib.figure.Figure at 0x7e0ab70>"
      ]
     },
     "metadata": {},
     "output_type": "display_data"
    }
   ],
   "source": [
    "s = 0.953682269606\n",
    "mean, var, skew, kurt = lognorm.stats(s, moments='mvsk')\n",
    "\n",
    "x = np.linspace(lognorm.ppf(0.01, s),\n",
    "                lognorm.ppf(0.99, s), 100)\n",
    "plt.plot(x, lognorm.pdf(x, s),\n",
    "       'r-', lw=5, alpha=0.6, label='lognorm pdf')\n"
   ]
  },
  {
   "cell_type": "markdown",
   "metadata": {},
   "source": [
    "2.2) A forma analítica da distribuição é \"lognorm.pdf(x, s) = 1 / (s*x*sqrt(2*pi)) * exp(-1/2*(log(x)/s)**2)\""
   ]
  },
  {
   "cell_type": "markdown",
   "metadata": {},
   "source": [
    "2.3) Os parametros que descrevem a distribuição são \"scale\" e \"loc\"."
   ]
  },
  {
   "cell_type": "markdown",
   "metadata": {},
   "source": [
    "2.4) Sim, existem formulas específicas. A formula para calcular a média é:\n",
    "media = exp(μ+σ^2)/2\n",
    "\n",
    "A formula da variância é:\n",
    "variância = exp(2μ+σ^2)x((exp(σ^2)-1)\n",
    "\n",
    "Para utiliza=las é necessário usar:\n",
    "μ=log(m^2)/(v+m^2)^1/2\n",
    "σ=(log((v/m^2)+1)^1/2"
   ]
  },
  {
   "cell_type": "markdown",
   "metadata": {},
   "source": [
    "2.5) A distribuição de LogNormal é utilizada para criar modelos onde a taxa de crescimento independe do tamanho da amostra em áreas de economia, biologia e agricultura, como por exemplo: \n",
    "Tamanho de partículas que ocorrem em agregados\n",
    "Magnitudes de terremotos e tempo de repouso entre terremotos\n",
    "Médias de máximas diárias anuais de chuva, de vazão e picos de vazão de rios (anuais, mensais e diárias)\n",
    "Crescimento de cabelo"
   ]
  },
  {
   "cell_type": "markdown",
   "metadata": {},
   "source": [
    "2.6) Essa distribuição é útil, pois permite criar modelos com dados reais, que podem ser aplicados em um espaço amostral muito maior do que o analizado."
   ]
  }
 ],
 "metadata": {
  "kernelspec": {
   "display_name": "Python 3",
   "language": "python",
   "name": "python3"
  },
  "language_info": {
   "codemirror_mode": {
    "name": "ipython",
    "version": 3
   },
   "file_extension": ".py",
   "mimetype": "text/x-python",
   "name": "python",
   "nbconvert_exporter": "python",
   "pygments_lexer": "ipython3",
   "version": "3.4.3"
  }
 },
 "nbformat": 4,
 "nbformat_minor": 0
}
